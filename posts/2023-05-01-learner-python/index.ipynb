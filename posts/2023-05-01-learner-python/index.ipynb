{
 "cells": [
  {
   "cell_type": "raw",
   "id": "620f71c0-9fde-4d28-9fb5-a8dc21a68f5b",
   "metadata": {},
   "source": [
    "---\n",
    "title: Python basis related to fastai learner\n",
    "jupyter: python3\n",
    "author: metseq\n",
    "date: \"2023-04-25\"\n",
    "categories: [Python, ML]\n",
    "toc: true\n",
    "number-sections: true\n",
    "---"
   ]
  },
  {
   "cell_type": "markdown",
   "id": "ace1ff5f-03c6-474b-9c3c-d4876857f0bb",
   "metadata": {},
   "source": [
    "I have been studying [fastai course part2](https://course.fast.ai/Lessons/part2.html).\n",
    "\n",
    "In lesson 15 and lesson 16 Jeremy introduced Learner, a class that include model, dataloaders, loss function, optimizer. \n",
    "\n",
    "Jeremy used some advanced python features that I can't understand well, here is the experiment that I used to help me understand those python features."
   ]
  },
  {
   "cell_type": "markdown",
   "id": "5f95e6d6-7c1c-4b00-93b1-f4387abf59d6",
   "metadata": {},
   "source": [
    "# attrgetter"
   ]
  },
  {
   "cell_type": "code",
   "execution_count": 1,
   "id": "419012f8-ecee-40e0-b741-faed12b8ca66",
   "metadata": {
    "tags": []
   },
   "outputs": [],
   "source": [
    "from operator import attrgetter"
   ]
  },
  {
   "cell_type": "code",
   "execution_count": 2,
   "id": "bd504f65-4599-4b4e-9ad0-4cf50403dab7",
   "metadata": {
    "tags": []
   },
   "outputs": [
    {
     "data": {
      "text/plain": [
       "\u001b[0;31mInit signature:\u001b[0m \u001b[0mattrgetter\u001b[0m\u001b[0;34m(\u001b[0m\u001b[0mself\u001b[0m\u001b[0;34m,\u001b[0m \u001b[0;34m/\u001b[0m\u001b[0;34m,\u001b[0m \u001b[0;34m*\u001b[0m\u001b[0margs\u001b[0m\u001b[0;34m,\u001b[0m \u001b[0;34m**\u001b[0m\u001b[0mkwargs\u001b[0m\u001b[0;34m)\u001b[0m\u001b[0;34m\u001b[0m\u001b[0;34m\u001b[0m\u001b[0m\n",
       "\u001b[0;31mDocstring:\u001b[0m     \n",
       "attrgetter(attr, ...) --> attrgetter object\n",
       "\n",
       "Return a callable object that fetches the given attribute(s) from its operand.\n",
       "After f = attrgetter('name'), the call f(r) returns r.name.\n",
       "After g = attrgetter('name', 'date'), the call g(r) returns (r.name, r.date).\n",
       "After h = attrgetter('name.first', 'name.last'), the call h(r) returns\n",
       "(r.name.first, r.name.last).\n",
       "\u001b[0;31mFile:\u001b[0m           ~/conda/envs/ml/lib/python3.10/operator.py\n",
       "\u001b[0;31mType:\u001b[0m           type\n",
       "\u001b[0;31mSubclasses:\u001b[0m     "
      ]
     },
     "metadata": {},
     "output_type": "display_data"
    }
   ],
   "source": [
    "attrgetter?"
   ]
  },
  {
   "cell_type": "code",
   "execution_count": 3,
   "id": "e07cd1b1-6a68-401e-85c0-f54bfae829cd",
   "metadata": {
    "tags": []
   },
   "outputs": [],
   "source": [
    "f = attrgetter('name')"
   ]
  },
  {
   "cell_type": "code",
   "execution_count": 4,
   "id": "620901ad-5903-4553-972d-22de9575ecfc",
   "metadata": {
    "tags": []
   },
   "outputs": [],
   "source": [
    "class person:\n",
    "    name = 'Joe'\n",
    "    date = '05-01-2023'"
   ]
  },
  {
   "cell_type": "code",
   "execution_count": 5,
   "id": "f5727095-6692-4b40-83ed-ad6f5f01c52a",
   "metadata": {
    "tags": []
   },
   "outputs": [],
   "source": [
    "p = person()"
   ]
  },
  {
   "cell_type": "code",
   "execution_count": 6,
   "id": "8c41aeb6-dea0-4411-bc5e-f23578a9ee08",
   "metadata": {
    "tags": []
   },
   "outputs": [
    {
     "data": {
      "text/plain": [
       "'Joe'"
      ]
     },
     "execution_count": 6,
     "metadata": {},
     "output_type": "execute_result"
    }
   ],
   "source": [
    "f(p)"
   ]
  },
  {
   "cell_type": "code",
   "execution_count": 7,
   "id": "6bc6bb4c-93c2-47e4-b1ed-20809fd5a54c",
   "metadata": {
    "tags": []
   },
   "outputs": [
    {
     "data": {
      "text/plain": [
       "('Joe', '05-01-2023')"
      ]
     },
     "execution_count": 7,
     "metadata": {},
     "output_type": "execute_result"
    }
   ],
   "source": [
    "f2 = attrgetter('name', 'date')\n",
    "f2(p)"
   ]
  },
  {
   "cell_type": "markdown",
   "id": "8f56dec7-3afa-48fd-a10a-815e13d0850a",
   "metadata": {},
   "source": [
    "The source of the course use attrgetter is:\n",
    "\n",
    "```python\n",
    "def run_cbs(cbs, method_nm, learn=None):\n",
    "    for cb in sorted(cbs, key=attrgetter('order')):\n",
    "        method = getattr(cb, method_nm, None)\n",
    "        if method is not None: method(learn)\n",
    "```"
   ]
  },
  {
   "cell_type": "code",
   "execution_count": 8,
   "id": "b7fa9983-35a3-4862-8367-80bc7d433cea",
   "metadata": {
    "tags": []
   },
   "outputs": [
    {
     "data": {
      "text/plain": [
       "\u001b[0;31mSignature:\u001b[0m \u001b[0msorted\u001b[0m\u001b[0;34m(\u001b[0m\u001b[0miterable\u001b[0m\u001b[0;34m,\u001b[0m \u001b[0;34m/\u001b[0m\u001b[0;34m,\u001b[0m \u001b[0;34m*\u001b[0m\u001b[0;34m,\u001b[0m \u001b[0mkey\u001b[0m\u001b[0;34m=\u001b[0m\u001b[0;32mNone\u001b[0m\u001b[0;34m,\u001b[0m \u001b[0mreverse\u001b[0m\u001b[0;34m=\u001b[0m\u001b[0;32mFalse\u001b[0m\u001b[0;34m)\u001b[0m\u001b[0;34m\u001b[0m\u001b[0;34m\u001b[0m\u001b[0m\n",
       "\u001b[0;31mDocstring:\u001b[0m\n",
       "Return a new list containing all items from the iterable in ascending order.\n",
       "\n",
       "A custom key function can be supplied to customize the sort order, and the\n",
       "reverse flag can be set to request the result in descending order.\n",
       "\u001b[0;31mType:\u001b[0m      builtin_function_or_method"
      ]
     },
     "metadata": {},
     "output_type": "display_data"
    }
   ],
   "source": [
    "sorted?"
   ]
  },
  {
   "cell_type": "markdown",
   "id": "163af5bb-db04-4883-a27a-43e94d36dafc",
   "metadata": {},
   "source": [
    "the `key` argument of sorted function can be a custom function, in the source, the function is `attrgetter('order')`, that is get the *order* attribute of cb object."
   ]
  },
  {
   "cell_type": "markdown",
   "id": "5281e741-a60a-4351-afb1-24d1c77f031a",
   "metadata": {},
   "source": [
    "Let's create another example of sorted:"
   ]
  },
  {
   "cell_type": "code",
   "execution_count": 9,
   "id": "b6eca3b2-1800-4421-aeeb-3f4f759473da",
   "metadata": {
    "tags": []
   },
   "outputs": [],
   "source": [
    "l = {'Joe': 'P1', 'Min': 'P3', 'Reba': 'P2'}"
   ]
  },
  {
   "cell_type": "code",
   "execution_count": 10,
   "id": "e1aebfad-e89a-4c2a-9dd8-758aad27ca53",
   "metadata": {
    "tags": []
   },
   "outputs": [
    {
     "data": {
      "text/plain": [
       "['Joe', 'Reba', 'Min']"
      ]
     },
     "execution_count": 10,
     "metadata": {},
     "output_type": "execute_result"
    }
   ],
   "source": [
    "sorted(l, key = lambda x: int(l[x][1]))"
   ]
  },
  {
   "cell_type": "markdown",
   "id": "b68b81de-f449-4865-9e60-6bd13cd8a02b",
   "metadata": {},
   "source": [
    "# getattr"
   ]
  },
  {
   "cell_type": "markdown",
   "id": "65b44f29-7983-4a69-9d5e-551de7cbb50b",
   "metadata": {
    "tags": []
   },
   "source": [
    "The source of the course use attrgetter is:\n",
    "\n",
    "```python\n",
    "def run_cbs(cbs, method_nm, learn=None):\n",
    "    for cb in sorted(cbs, key=attrgetter('order')):\n",
    "        method = getattr(cb, method_nm, None)\n",
    "        if method is not None: method(learn)\n",
    "```"
   ]
  },
  {
   "cell_type": "code",
   "execution_count": 11,
   "id": "ae679175-f10f-46c7-ba3e-d60f865dac66",
   "metadata": {
    "tags": []
   },
   "outputs": [
    {
     "data": {
      "text/plain": [
       "\u001b[0;31mDocstring:\u001b[0m\n",
       "getattr(object, name[, default]) -> value\n",
       "\n",
       "Get a named attribute from an object; getattr(x, 'y') is equivalent to x.y.\n",
       "When a default argument is given, it is returned when the attribute doesn't\n",
       "exist; without it, an exception is raised in that case.\n",
       "\u001b[0;31mType:\u001b[0m      builtin_function_or_method"
      ]
     },
     "metadata": {},
     "output_type": "display_data"
    }
   ],
   "source": [
    "getattr?"
   ]
  },
  {
   "cell_type": "markdown",
   "id": "ac9ba5ad-a504-4937-9197-099824aad931",
   "metadata": {},
   "source": [
    "Ha, This one method is easy."
   ]
  },
  {
   "cell_type": "code",
   "execution_count": 12,
   "id": "efe1a1e4-809c-4cb9-957c-9916d3deb621",
   "metadata": {
    "tags": []
   },
   "outputs": [
    {
     "data": {
      "text/plain": [
       "'Joe'"
      ]
     },
     "execution_count": 12,
     "metadata": {},
     "output_type": "execute_result"
    }
   ],
   "source": [
    "getattr(p, 'name')"
   ]
  },
  {
   "cell_type": "code",
   "execution_count": 13,
   "id": "b3436601-2985-4463-be5c-93ec3caf8de4",
   "metadata": {
    "tags": []
   },
   "outputs": [
    {
     "ename": "AttributeError",
     "evalue": "'person' object has no attribute 'age'",
     "output_type": "error",
     "traceback": [
      "\u001b[0;31m---------------------------------------------------------------------------\u001b[0m",
      "\u001b[0;31mAttributeError\u001b[0m                            Traceback (most recent call last)",
      "Cell \u001b[0;32mIn[13], line 1\u001b[0m\n\u001b[0;32m----> 1\u001b[0m \u001b[38;5;28;43mgetattr\u001b[39;49m\u001b[43m(\u001b[49m\u001b[43mp\u001b[49m\u001b[43m,\u001b[49m\u001b[43m \u001b[49m\u001b[38;5;124;43m'\u001b[39;49m\u001b[38;5;124;43mage\u001b[39;49m\u001b[38;5;124;43m'\u001b[39;49m\u001b[43m)\u001b[49m\n",
      "\u001b[0;31mAttributeError\u001b[0m: 'person' object has no attribute 'age'"
     ]
    }
   ],
   "source": [
    "getattr(p, 'age')"
   ]
  },
  {
   "cell_type": "code",
   "execution_count": 14,
   "id": "3e8fb08c-cc04-43f0-8d92-067564059839",
   "metadata": {
    "tags": []
   },
   "outputs": [],
   "source": [
    "getattr(p, 'age', None)"
   ]
  },
  {
   "cell_type": "markdown",
   "id": "7303d8cd-7f79-4d6e-a18c-9dfec79b7166",
   "metadata": {
    "tags": []
   },
   "source": [
    "# Exception"
   ]
  },
  {
   "cell_type": "markdown",
   "id": "869fb126-46d9-4e70-ac3e-8da9b5adad31",
   "metadata": {},
   "source": [
    "The source code use Exception are:\n",
    "\n",
    "```python\n",
    "class CancelFitException(Exception): pass\n",
    "class CancelBatchException(Exception): pass\n",
    "class CancelEpochException(Exception): pass\n",
    "```"
   ]
  },
  {
   "cell_type": "markdown",
   "id": "f0d57a96-28aa-4c81-928b-5b85d6c2aa5b",
   "metadata": {},
   "source": [
    "By create a new class inherit `Exception` class, can create a custom `Exception` class"
   ]
  },
  {
   "cell_type": "markdown",
   "id": "1d727783-2c32-451e-8a66-0c48259cf421",
   "metadata": {},
   "source": [
    "# @contextmanager"
   ]
  },
  {
   "cell_type": "code",
   "execution_count": 17,
   "id": "fe044e93-e4f9-4268-8536-963dcbde6838",
   "metadata": {
    "tags": []
   },
   "outputs": [],
   "source": [
    "from contextlib import contextmanager"
   ]
  },
  {
   "cell_type": "code",
   "execution_count": 18,
   "id": "7fccf16c-d1b4-4762-b134-72fa931748b9",
   "metadata": {
    "tags": []
   },
   "outputs": [
    {
     "data": {
      "text/plain": [
       "\u001b[0;31mSignature:\u001b[0m \u001b[0mcontextmanager\u001b[0m\u001b[0;34m(\u001b[0m\u001b[0mfunc\u001b[0m\u001b[0;34m)\u001b[0m\u001b[0;34m\u001b[0m\u001b[0;34m\u001b[0m\u001b[0m\n",
       "\u001b[0;31mDocstring:\u001b[0m\n",
       "@contextmanager decorator.\n",
       "\n",
       "Typical usage:\n",
       "\n",
       "    @contextmanager\n",
       "    def some_generator(<arguments>):\n",
       "        <setup>\n",
       "        try:\n",
       "            yield <value>\n",
       "        finally:\n",
       "            <cleanup>\n",
       "\n",
       "This makes this:\n",
       "\n",
       "    with some_generator(<arguments>) as <variable>:\n",
       "        <body>\n",
       "\n",
       "equivalent to this:\n",
       "\n",
       "    <setup>\n",
       "    try:\n",
       "        <variable> = <value>\n",
       "        <body>\n",
       "    finally:\n",
       "        <cleanup>\n",
       "\u001b[0;31mFile:\u001b[0m      ~/conda/envs/ml/lib/python3.10/contextlib.py\n",
       "\u001b[0;31mType:\u001b[0m      function"
      ]
     },
     "metadata": {},
     "output_type": "display_data"
    }
   ],
   "source": [
    "contextmanager?"
   ]
  },
  {
   "cell_type": "code",
   "execution_count": 19,
   "id": "3e1f4023-8bee-4f53-8f5d-064a96a28cfa",
   "metadata": {
    "tags": []
   },
   "outputs": [],
   "source": [
    "@contextmanager\n",
    "def test_func(*args, **kargs):\n",
    "    print(\"Before try\")\n",
    "    try:\n",
    "        print(\"Exec try, before yield\")\n",
    "        yield\n",
    "        print(\"Exec try, after yield\")\n",
    "    except ZeroDivisionError:\n",
    "        print(\"except: Divided by zero\")\n",
    "    finally:\n",
    "        print(\"Exec finally\")"
   ]
  },
  {
   "cell_type": "code",
   "execution_count": 20,
   "id": "f492319a-6edf-4309-afe0-084a70380b5c",
   "metadata": {
    "tags": []
   },
   "outputs": [
    {
     "name": "stdout",
     "output_type": "stream",
     "text": [
      "Before try\n",
      "Exec try, before yield\n",
      "In with 1\n",
      "In with 2\n",
      "Exec try, after yield\n",
      "Exec finally\n"
     ]
    }
   ],
   "source": [
    "with test_func():\n",
    "    print(\"In with 1\")\n",
    "    print(\"In with 2\")"
   ]
  },
  {
   "cell_type": "markdown",
   "id": "567ce0ce-34c1-4535-b3b4-041dd154368e",
   "metadata": {},
   "source": [
    "## Raise error in with statement?"
   ]
  },
  {
   "cell_type": "code",
   "execution_count": 21,
   "id": "b8d902b0-5b8c-41e1-b5cb-4d65f5281318",
   "metadata": {
    "tags": []
   },
   "outputs": [
    {
     "name": "stdout",
     "output_type": "stream",
     "text": [
      "Before try\n",
      "Exec try, before yield\n",
      "In with\n",
      "except: Divided by zero\n",
      "Exec finally\n"
     ]
    }
   ],
   "source": [
    "with test_func():\n",
    "    print(\"In with\")\n",
    "    a = 1 / 0\n",
    "    print(\"In with 2\")"
   ]
  },
  {
   "cell_type": "markdown",
   "id": "cb72daea-e65b-4da8-adf6-3a7b3f2fd076",
   "metadata": {
    "tags": []
   },
   "source": [
    "## Raise error before yield?"
   ]
  },
  {
   "cell_type": "code",
   "execution_count": 22,
   "id": "0fc30dc1-fb62-4840-ba54-c69d23dbe439",
   "metadata": {
    "tags": []
   },
   "outputs": [],
   "source": [
    "@contextmanager\n",
    "def test_func(*args, **kargs):\n",
    "    print(\"Before try\")\n",
    "    try:\n",
    "        print(\"Exec try, before yield\")\n",
    "        a = 1 / 0\n",
    "        yield\n",
    "        print(\"Exec try, after yield\")\n",
    "    except ZeroDivisionError:\n",
    "        print(\"except: Divided by zero\")\n",
    "    finally:\n",
    "        print(\"Exec finally\")"
   ]
  },
  {
   "cell_type": "code",
   "execution_count": 23,
   "id": "a1d4de09-5eb2-4c3a-910f-40a3dd9dbf41",
   "metadata": {
    "tags": []
   },
   "outputs": [
    {
     "name": "stdout",
     "output_type": "stream",
     "text": [
      "Before try\n",
      "Exec try, before yield\n",
      "except: Divided by zero\n",
      "Exec finally\n"
     ]
    },
    {
     "ename": "RuntimeError",
     "evalue": "generator didn't yield",
     "output_type": "error",
     "traceback": [
      "\u001b[0;31m---------------------------------------------------------------------------\u001b[0m",
      "\u001b[0;31mRuntimeError\u001b[0m                              Traceback (most recent call last)",
      "Cell \u001b[0;32mIn[23], line 1\u001b[0m\n\u001b[0;32m----> 1\u001b[0m \u001b[38;5;28;01mwith\u001b[39;00m test_func():\n\u001b[1;32m      2\u001b[0m     \u001b[38;5;28mprint\u001b[39m(\u001b[38;5;124m\"\u001b[39m\u001b[38;5;124mIn with 1\u001b[39m\u001b[38;5;124m\"\u001b[39m)\n\u001b[1;32m      3\u001b[0m     \u001b[38;5;28mprint\u001b[39m(\u001b[38;5;124m\"\u001b[39m\u001b[38;5;124mIn with 2\u001b[39m\u001b[38;5;124m\"\u001b[39m)\n",
      "File \u001b[0;32m~/conda/envs/ml/lib/python3.10/contextlib.py:137\u001b[0m, in \u001b[0;36m_GeneratorContextManager.__enter__\u001b[0;34m(self)\u001b[0m\n\u001b[1;32m    135\u001b[0m     \u001b[38;5;28;01mreturn\u001b[39;00m \u001b[38;5;28mnext\u001b[39m(\u001b[38;5;28mself\u001b[39m\u001b[38;5;241m.\u001b[39mgen)\n\u001b[1;32m    136\u001b[0m \u001b[38;5;28;01mexcept\u001b[39;00m \u001b[38;5;167;01mStopIteration\u001b[39;00m:\n\u001b[0;32m--> 137\u001b[0m     \u001b[38;5;28;01mraise\u001b[39;00m \u001b[38;5;167;01mRuntimeError\u001b[39;00m(\u001b[38;5;124m\"\u001b[39m\u001b[38;5;124mgenerator didn\u001b[39m\u001b[38;5;124m'\u001b[39m\u001b[38;5;124mt yield\u001b[39m\u001b[38;5;124m\"\u001b[39m) \u001b[38;5;28;01mfrom\u001b[39;00m \u001b[38;5;28;01mNone\u001b[39;00m\n",
      "\u001b[0;31mRuntimeError\u001b[0m: generator didn't yield"
     ]
    }
   ],
   "source": [
    "with test_func():\n",
    "    print(\"In with 1\")\n",
    "    print(\"In with 2\")"
   ]
  },
  {
   "cell_type": "markdown",
   "id": "a817ec86-ea83-4669-a565-ad760d9cce1c",
   "metadata": {},
   "source": [
    "::: {.callout-tip}\n",
    "\n",
    "So `contextmanager` can't handle error before yield, as Jeremy have tested in the class.\n",
    ":::"
   ]
  },
  {
   "cell_type": "markdown",
   "id": "6b0ec2e3-a164-4c59-b6a4-e231ae57db0e",
   "metadata": {},
   "source": [
    "## Raise error after yield"
   ]
  },
  {
   "cell_type": "code",
   "execution_count": 24,
   "id": "247d0baf-d0d1-46cc-a268-e5cee63b65c9",
   "metadata": {
    "tags": []
   },
   "outputs": [],
   "source": [
    "@contextmanager\n",
    "def test_func(*args, **kargs):\n",
    "    print(\"Before try\")\n",
    "    try:\n",
    "        print(\"Exec try, before yield\")\n",
    "        yield\n",
    "        print(\"Exec try, after yield\")\n",
    "        a = 1 / 0\n",
    "    except ZeroDivisionError:\n",
    "        print(\"except: Divided by zero\")\n",
    "    finally:\n",
    "        print(\"Exec finally\")"
   ]
  },
  {
   "cell_type": "code",
   "execution_count": 27,
   "id": "bfbca579-1e90-425e-808d-8609c97bb041",
   "metadata": {
    "tags": []
   },
   "outputs": [
    {
     "name": "stdout",
     "output_type": "stream",
     "text": [
      "Before try\n",
      "Exec try, before yield\n",
      "In with 1\n",
      "In with 2\n",
      "Exec try, after yield\n",
      "except: Divided by zero\n",
      "Exec finally\n"
     ]
    }
   ],
   "source": [
    "with test_func():\n",
    "    print(\"In with 1\")\n",
    "    print(\"In with 2\")"
   ]
  },
  {
   "cell_type": "markdown",
   "id": "93855c9f-327f-43f4-8c54-96ce8f500631",
   "metadata": {},
   "source": [
    "## yield value"
   ]
  },
  {
   "cell_type": "code",
   "execution_count": 35,
   "id": "0ea85301-3e96-42df-b99d-ad04e070120f",
   "metadata": {
    "tags": []
   },
   "outputs": [],
   "source": [
    "@contextmanager\n",
    "def test_func(*args, **kargs):\n",
    "    print(\"Before try\")\n",
    "    try:\n",
    "        print(\"Exec try, before yield\")\n",
    "        yield range(3)\n",
    "        print(\"Exec try, after yield\")\n",
    "    except ZeroDivisionError:\n",
    "        print(\"except: Divided by zero\")\n",
    "    finally:\n",
    "        print(\"Exec finally\")"
   ]
  },
  {
   "cell_type": "code",
   "execution_count": 36,
   "id": "0d002c14-8c07-477b-8cc0-3da65760235a",
   "metadata": {
    "tags": []
   },
   "outputs": [
    {
     "name": "stdout",
     "output_type": "stream",
     "text": [
      "Before try\n",
      "Exec try, before yield\n",
      "In with 1\n",
      "0\n",
      "1\n",
      "2\n",
      "In with 2\n",
      "Exec try, after yield\n",
      "Exec finally\n"
     ]
    }
   ],
   "source": [
    "with test_func() as f:\n",
    "    print(\"In with 1\")\n",
    "    for i in f:\n",
    "        print(i)\n",
    "    print(\"In with 2\")"
   ]
  },
  {
   "cell_type": "code",
   "execution_count": null,
   "id": "f9ae20a9-0570-4181-990f-65ef23bc1435",
   "metadata": {},
   "outputs": [],
   "source": []
  }
 ],
 "metadata": {
  "kernelspec": {
   "display_name": "Python 3 (ipykernel)",
   "language": "python",
   "name": "python3"
  },
  "language_info": {
   "codemirror_mode": {
    "name": "ipython",
    "version": 3
   },
   "file_extension": ".py",
   "mimetype": "text/x-python",
   "name": "python",
   "nbconvert_exporter": "python",
   "pygments_lexer": "ipython3",
   "version": "3.10.10"
  },
  "toc": {
   "base_numbering": 1,
   "nav_menu": {
    "height": "120px",
    "width": "205.994px"
   },
   "number_sections": true,
   "sideBar": true,
   "skip_h1_title": false,
   "title_cell": "Table of Contents",
   "title_sidebar": "Contents",
   "toc_cell": false,
   "toc_position": {},
   "toc_section_display": true,
   "toc_window_display": false
  },
  "toc-autonumbering": true
 },
 "nbformat": 4,
 "nbformat_minor": 5
}
