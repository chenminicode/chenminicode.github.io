{
 "cells": [
  {
   "cell_type": "raw",
   "id": "0b5bb89f",
   "metadata": {},
   "source": [
    "---\n",
    "title: Python中的__enter__和__exit__\n",
    "jupyter: python3\n",
    "author: metseq\n",
    "date: \"2022-11-08\"\n",
    "categories: [Python]\n",
    "toc: true\n",
    "number-sections: true\n",
    "---"
   ]
  },
  {
   "cell_type": "markdown",
   "id": "95ce2040",
   "metadata": {},
   "source": [
    "# `__enter__`和`__exit__`是什么"
   ]
  },
  {
   "cell_type": "markdown",
   "id": "b09a9230",
   "metadata": {},
   "source": [
    "当在类中实现`__enter__`和`__exit__`方法的使用，这个类就可以用`with`调用了，调用`with`的时候，返回`__enter__`的结果，退出`with`的时候，执行`__exit__`的代码。"
   ]
  },
  {
   "cell_type": "markdown",
   "id": "dae83966",
   "metadata": {},
   "source": [
    "平时用`with`最多的可能是打开一个文件，`with`返回文件的句柄（file handle），退出`with`的时候关闭文件。\n",
    "\n",
    "\n",
    "如下代码："
   ]
  },
  {
   "cell_type": "code",
   "execution_count": null,
   "id": "9daf0e7f",
   "metadata": {},
   "outputs": [
    {
     "name": "stdout",
     "output_type": "stream",
     "text": [
      "line1\r\n",
      "line2\r\n",
      "line3\r\n"
     ]
    }
   ],
   "source": [
    "# 建一个测试文件\n",
    "! echo -e 'line1\\nline2\\nline3' > sample.txt\n",
    "! cat sample.txt"
   ]
  },
  {
   "cell_type": "code",
   "execution_count": null,
   "id": "87c6a8b9",
   "metadata": {},
   "outputs": [
    {
     "name": "stdout",
     "output_type": "stream",
     "text": [
      "line1\n",
      "line2\n",
      "line3\n"
     ]
    }
   ],
   "source": [
    "# 使用python读取文件\n",
    "with open('sample.txt', 'r') as f:\n",
    "    for line in f:\n",
    "        print(line, end='')        "
   ]
  },
  {
   "cell_type": "code",
   "execution_count": null,
   "id": "56555011",
   "metadata": {},
   "outputs": [
    {
     "data": {
      "text/plain": [
       "True"
      ]
     },
     "execution_count": null,
     "metadata": {},
     "output_type": "execute_result"
    }
   ],
   "source": [
    "# 查看f是否关闭了，返回True，表示f关闭了\n",
    "f.closed"
   ]
  },
  {
   "cell_type": "markdown",
   "id": "e4cb5428",
   "metadata": {},
   "source": [
    "如果不用`with`，需要手动关闭文件。"
   ]
  },
  {
   "cell_type": "code",
   "execution_count": null,
   "id": "0e02115e",
   "metadata": {},
   "outputs": [],
   "source": [
    "f = open('sample.txt', 'r')"
   ]
  },
  {
   "cell_type": "code",
   "execution_count": null,
   "id": "119a6178",
   "metadata": {},
   "outputs": [
    {
     "data": {
      "text/plain": [
       "False"
      ]
     },
     "execution_count": null,
     "metadata": {},
     "output_type": "execute_result"
    }
   ],
   "source": [
    "# f还没有关闭\n",
    "f.closed"
   ]
  },
  {
   "cell_type": "code",
   "execution_count": null,
   "id": "0817f6a6",
   "metadata": {},
   "outputs": [
    {
     "data": {
      "text/plain": [
       "True"
      ]
     },
     "execution_count": null,
     "metadata": {},
     "output_type": "execute_result"
    }
   ],
   "source": [
    "# 使用close()方法关闭文件后，文件就关闭了\n",
    "f.close()\n",
    "f.closed"
   ]
  },
  {
   "cell_type": "markdown",
   "id": "6d1c48e7",
   "metadata": {},
   "source": [
    "# 自已写一个处理文件的类"
   ]
  },
  {
   "cell_type": "code",
   "execution_count": null,
   "id": "b042aace",
   "metadata": {},
   "outputs": [],
   "source": [
    "class MyOpen():\n",
    "    def __init__(self, file, mode):\n",
    "        self.file = file\n",
    "        self.mode = mode\n",
    "    \n",
    "    def __enter__(self):\n",
    "        self.f = open(self.file, self.mode)\n",
    "        return self.f\n",
    "    \n",
    "    def __exit__(self, exc_type, exc_val, exc_tb):\n",
    "        self.f.close()"
   ]
  },
  {
   "cell_type": "code",
   "execution_count": null,
   "id": "d0deda03",
   "metadata": {},
   "outputs": [
    {
     "name": "stdout",
     "output_type": "stream",
     "text": [
      "line1\n",
      "line2\n",
      "line3\n"
     ]
    }
   ],
   "source": [
    "with MyOpen('sample.txt', 'r') as f:\n",
    "    for line in f:\n",
    "        print(line, end='')        "
   ]
  },
  {
   "cell_type": "code",
   "execution_count": null,
   "id": "2d9e7fa8",
   "metadata": {},
   "outputs": [
    {
     "data": {
      "text/plain": [
       "True"
      ]
     },
     "execution_count": null,
     "metadata": {},
     "output_type": "execute_result"
    }
   ],
   "source": [
    "f.closed"
   ]
  },
  {
   "cell_type": "markdown",
   "id": "9ea0480b",
   "metadata": {},
   "source": [
    "::: {.callout-tip}\n",
    "注意上面的MyOpen类中的__exit__方法有4个参数，self不必说，后面三个参数是什么呢？\n",
    ":::"
   ]
  },
  {
   "cell_type": "markdown",
   "id": "4bd3402e",
   "metadata": {},
   "source": [
    "# `__exit__`的参数"
   ]
  },
  {
   "cell_type": "code",
   "execution_count": null,
   "id": "c2c6a4bf",
   "metadata": {},
   "outputs": [],
   "source": [
    "class SafeDivide():\n",
    "    def __init__(self, a, b):\n",
    "        self.a = a\n",
    "        self.b = b\n",
    "    \n",
    "    def __enter__(self):\n",
    "        print('exec __enter__')\n",
    "        print(f'{self.a} / {self.b} = ', end='')\n",
    "        return self\n",
    "    \n",
    "    def divide(self):\n",
    "        return self.a / self.b\n",
    "    \n",
    "    def __exit__(self, exc_type, exc_val, exc_tb):\n",
    "        print('\\n------------')\n",
    "        print('exec __exit__')\n",
    "        print(f\"exec_type: {exc_type}\")\n",
    "        print(f\"exc_val: {exc_val}\")\n",
    "        print(f\"exc_tb: {exc_tb}\")"
   ]
  },
  {
   "cell_type": "code",
   "execution_count": null,
   "id": "34aa8110",
   "metadata": {},
   "outputs": [
    {
     "name": "stdout",
     "output_type": "stream",
     "text": [
      "exec __enter__\n",
      "1 / 2 = 0.5\n",
      "啦啦啦\n",
      "\n",
      "------------\n",
      "exec __exit__\n",
      "exec_type: None\n",
      "exc_val: None\n",
      "exc_tb: None\n"
     ]
    }
   ],
   "source": [
    "with SafeDivide(1, 2) as d:\n",
    "    print(d.divide())\n",
    "    print('啦啦啦')"
   ]
  },
  {
   "cell_type": "markdown",
   "id": "6d23c0ae",
   "metadata": {},
   "source": [
    "如果执行没有问题，`exc_type`, `exc_val`, `exc_tb`都是`None`"
   ]
  },
  {
   "cell_type": "code",
   "execution_count": null,
   "id": "f023a99d",
   "metadata": {},
   "outputs": [
    {
     "name": "stdout",
     "output_type": "stream",
     "text": [
      "exec __enter__\n",
      "1 / 0 = \n",
      "------------\n",
      "exec __exit__\n",
      "exec_type: <class 'ZeroDivisionError'>\n",
      "exc_val: division by zero\n",
      "exc_tb: <traceback object>\n"
     ]
    },
    {
     "ename": "ZeroDivisionError",
     "evalue": "division by zero",
     "output_type": "error",
     "traceback": [
      "\u001b[0;31m---------------------------------------------------------------------------\u001b[0m",
      "\u001b[0;31mZeroDivisionError\u001b[0m                         Traceback (most recent call last)",
      "Cell \u001b[0;32mIn [12], line 2\u001b[0m\n\u001b[1;32m      1\u001b[0m \u001b[38;5;28;01mwith\u001b[39;00m SafeDivide(\u001b[38;5;241m1\u001b[39m, \u001b[38;5;241m0\u001b[39m) \u001b[38;5;28;01mas\u001b[39;00m d:\n\u001b[0;32m----> 2\u001b[0m     \u001b[38;5;28mprint\u001b[39m(\u001b[43md\u001b[49m\u001b[38;5;241;43m.\u001b[39;49m\u001b[43mdivide\u001b[49m\u001b[43m(\u001b[49m\u001b[43m)\u001b[49m)\n",
      "Cell \u001b[0;32mIn [10], line 12\u001b[0m, in \u001b[0;36mSafeDivide.divide\u001b[0;34m(self)\u001b[0m\n\u001b[1;32m     11\u001b[0m \u001b[38;5;28;01mdef\u001b[39;00m \u001b[38;5;21mdivide\u001b[39m(\u001b[38;5;28mself\u001b[39m):\n\u001b[0;32m---> 12\u001b[0m     \u001b[38;5;28;01mreturn\u001b[39;00m \u001b[38;5;28;43mself\u001b[39;49m\u001b[38;5;241;43m.\u001b[39;49m\u001b[43ma\u001b[49m\u001b[43m \u001b[49m\u001b[38;5;241;43m/\u001b[39;49m\u001b[43m \u001b[49m\u001b[38;5;28;43mself\u001b[39;49m\u001b[38;5;241;43m.\u001b[39;49m\u001b[43mb\u001b[49m\n",
      "\u001b[0;31mZeroDivisionError\u001b[0m: division by zero"
     ]
    }
   ],
   "source": [
    "with SafeDivide(1, 0) as d:\n",
    "    print(d.divide())"
   ]
  },
  {
   "cell_type": "markdown",
   "id": "b3942aaf",
   "metadata": {},
   "source": [
    "如果执行对象的方法出现问题，就会直接执行`__exit__`方法，`exc_type`, `exc_val`, `exc_tb`包含的就是错误类型，错误值，错误的回溯信息。"
   ]
  },
  {
   "cell_type": "markdown",
   "id": "af262c7e",
   "metadata": {},
   "source": [
    "::: {.callout-note}\n",
    "出错后不会执行后面的语句，比如这里的`print('啦啦啦')`，而是直接执行`__exit__`了\n",
    ":::"
   ]
  }
 ],
 "metadata": {
  "kernelspec": {
   "display_name": "Python 3 (ipykernel)",
   "language": "python",
   "name": "python3"
  }
 },
 "nbformat": 4,
 "nbformat_minor": 5
}
