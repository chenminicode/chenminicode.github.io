{
 "cells": [
  {
   "cell_type": "raw",
   "id": "b096d9f9",
   "metadata": {},
   "source": [
    "---\n",
    "title: Python中的__getattr__和__getattribute__\n",
    "jupyter: python3\n",
    "author: metseq\n",
    "date: \"2022-11-09\"\n",
    "categories: [Python]\n",
    "toc: true\n",
    "number-sections: true\n",
    "---"
   ]
  },
  {
   "cell_type": "markdown",
   "id": "dee7a09d",
   "metadata": {},
   "source": [
    "# `__getattr__`"
   ]
  },
  {
   "cell_type": "markdown",
   "id": "ab2e9db5",
   "metadata": {},
   "source": [
    "如果再类中实现了`_getattr__`方法，那么当使用`对象.属性`的时候，如果`属性`不在对象里，则会调用`__getattr__`方法。"
   ]
  },
  {
   "cell_type": "code",
   "execution_count": null,
   "id": "fd517ffa",
   "metadata": {},
   "outputs": [],
   "source": [
    "class Point():\n",
    "    def __init__(self, x, y):\n",
    "        self.x = x\n",
    "        self.y = y"
   ]
  },
  {
   "cell_type": "code",
   "execution_count": null,
   "id": "4938598e",
   "metadata": {},
   "outputs": [
    {
     "name": "stdout",
     "output_type": "stream",
     "text": [
      "3 4\n"
     ]
    },
    {
     "ename": "AttributeError",
     "evalue": "'Point' object has no attribute 'z'",
     "output_type": "error",
     "traceback": [
      "\u001b[0;31m---------------------------------------------------------------------------\u001b[0m",
      "\u001b[0;31mAttributeError\u001b[0m                            Traceback (most recent call last)",
      "Cell \u001b[0;32mIn [2], line 3\u001b[0m\n\u001b[1;32m      1\u001b[0m p \u001b[38;5;241m=\u001b[39m Point(\u001b[38;5;241m3\u001b[39m, \u001b[38;5;241m4\u001b[39m)\n\u001b[1;32m      2\u001b[0m \u001b[38;5;28mprint\u001b[39m(p\u001b[38;5;241m.\u001b[39mx, p\u001b[38;5;241m.\u001b[39my)\n\u001b[0;32m----> 3\u001b[0m \u001b[38;5;28mprint\u001b[39m(\u001b[43mp\u001b[49m\u001b[38;5;241;43m.\u001b[39;49m\u001b[43mz\u001b[49m)\n",
      "\u001b[0;31mAttributeError\u001b[0m: 'Point' object has no attribute 'z'"
     ]
    }
   ],
   "source": [
    "p = Point(3, 4)\n",
    "print(p.x, p.y)\n",
    "print(p.z)"
   ]
  },
  {
   "cell_type": "markdown",
   "id": "0b3cd9f0",
   "metadata": {},
   "source": [
    "因为`Point`没有`z`这个属性，所以报错了。"
   ]
  },
  {
   "cell_type": "markdown",
   "id": "ec51a38c",
   "metadata": {},
   "source": [
    "下面这个类实现了`__getattr__`方法，看看会怎么样"
   ]
  },
  {
   "cell_type": "code",
   "execution_count": null,
   "id": "7dc586cd",
   "metadata": {},
   "outputs": [],
   "source": [
    "class Point():\n",
    "    def __init__(self, x, y):\n",
    "        self.x = x\n",
    "        self.y = y\n",
    "    \n",
    "    def __getattr__(self, name):\n",
    "        print('exec __getattr__ 😀')\n",
    "        print(f'name: {name}')\n",
    "        return 42"
   ]
  },
  {
   "cell_type": "code",
   "execution_count": null,
   "id": "5fb3ca4f",
   "metadata": {},
   "outputs": [
    {
     "name": "stdout",
     "output_type": "stream",
     "text": [
      "exec __getattr__ 😀\n",
      "name: z\n"
     ]
    },
    {
     "data": {
      "text/plain": [
       "42"
      ]
     },
     "execution_count": null,
     "metadata": {},
     "output_type": "execute_result"
    }
   ],
   "source": [
    "p = Point(3, 4)\n",
    "p.z"
   ]
  },
  {
   "cell_type": "markdown",
   "id": "5364ed73",
   "metadata": {},
   "source": [
    "::: {.callout-tip}\n",
    "`__getattr__`方法接受两个参数，self不用说，name就是`属性`名称，在上面的例子就是`z`\n",
    ":::"
   ]
  },
  {
   "cell_type": "markdown",
   "id": "a13e3052",
   "metadata": {},
   "source": [
    "# `__getattribute__`"
   ]
  },
  {
   "cell_type": "markdown",
   "id": "be2e7c40",
   "metadata": {},
   "source": [
    "如果再类中实现了`__getattribute__`方法，那么当使用`对象.属性`的时候，都会调用`__getattr__`方法。"
   ]
  },
  {
   "cell_type": "markdown",
   "id": "0c455ee0",
   "metadata": {},
   "source": [
    "::: {.callout-tip}\n",
    "注意`_getattr__`只在属性不在对象里的时候在调用\n",
    ":::"
   ]
  },
  {
   "cell_type": "code",
   "execution_count": null,
   "id": "2473b392",
   "metadata": {},
   "outputs": [],
   "source": [
    "class Point():\n",
    "    def __init__(self, x, y):\n",
    "        self.x = x\n",
    "        self.y = y\n",
    "    \n",
    "    def __getattribute__(self, name):\n",
    "        print('exec __getattr__ 😀')\n",
    "        print(f'name: {name}')\n",
    "        return 42"
   ]
  },
  {
   "cell_type": "code",
   "execution_count": null,
   "id": "e5e169a7",
   "metadata": {},
   "outputs": [
    {
     "name": "stdout",
     "output_type": "stream",
     "text": [
      "exec __getattr__ 😀\n",
      "name: x\n",
      "exec __getattr__ 😀\n",
      "name: y\n",
      "exec __getattr__ 😀\n",
      "name: z\n"
     ]
    },
    {
     "data": {
      "text/plain": [
       "(42, 42, 42)"
      ]
     },
     "execution_count": null,
     "metadata": {},
     "output_type": "execute_result"
    }
   ],
   "source": [
    "p = Point(3, 4)\n",
    "p.x, p.y, p.z"
   ]
  },
  {
   "cell_type": "markdown",
   "id": "7a0de436",
   "metadata": {},
   "source": [
    "`p.x`, `p.y`和`p.z`都调用了`__getattribute__`方法"
   ]
  }
 ],
 "metadata": {
  "kernelspec": {
   "display_name": "Python 3 (ipykernel)",
   "language": "python",
   "name": "python3"
  }
 },
 "nbformat": 4,
 "nbformat_minor": 5
}
