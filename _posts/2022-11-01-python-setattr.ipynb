{
 "cells": [
  {
   "cell_type": "markdown",
   "id": "6030e348",
   "metadata": {},
   "source": [
    "## 类和对象的`__dict__`属性"
   ]
  },
  {
   "cell_type": "markdown",
   "id": "d0f93e01",
   "metadata": {},
   "source": [
    "### 对象的`__dict__`属性"
   ]
  },
  {
   "cell_type": "code",
   "execution_count": null,
   "id": "d8b0e1f6",
   "metadata": {},
   "outputs": [],
   "source": [
    "class Point():\n",
    "    '''Create a Point'''\n",
    "    my_name = 'A Point'\n",
    "    def __init__(self, x, y):\n",
    "        self.x = x\n",
    "        self.y = y"
   ]
  },
  {
   "cell_type": "code",
   "execution_count": null,
   "id": "48b15eb2",
   "metadata": {},
   "outputs": [
    {
     "data": {
      "text/plain": [
       "{'x': 3, 'y': 4}"
      ]
     },
     "execution_count": null,
     "metadata": {},
     "output_type": "execute_result"
    }
   ],
   "source": [
    "p = Point(3, 4)\n",
    "p.__dict__"
   ]
  },
  {
   "cell_type": "markdown",
   "id": "6feca1f6",
   "metadata": {},
   "source": [
    "对象的`__dict__`属性就是一个字典，这个字典的键是对象的属性，值就是对应属性的值。\n",
    "\n",
    "当给对象属性复制的时候，就是修改`__dict__`字典。"
   ]
  },
  {
   "cell_type": "markdown",
   "id": "71ccd4c0",
   "metadata": {},
   "source": [
    "### 类的`__dict__`属性"
   ]
  },
  {
   "cell_type": "code",
   "execution_count": null,
   "id": "a06eaae6",
   "metadata": {},
   "outputs": [
    {
     "data": {
      "text/plain": [
       "mappingproxy({'__module__': '__main__',\n",
       "              '__doc__': 'Create a Point',\n",
       "              'my_name': 'A Point',\n",
       "              '__init__': <function __main__.Point.__init__(self, x, y)>,\n",
       "              '__dict__': <attribute '__dict__' of 'Point' objects>,\n",
       "              '__weakref__': <attribute '__weakref__' of 'Point' objects>})"
      ]
     },
     "execution_count": null,
     "metadata": {},
     "output_type": "execute_result"
    }
   ],
   "source": [
    "Point.__dict__"
   ]
  },
  {
   "cell_type": "markdown",
   "id": "566aa087",
   "metadata": {},
   "source": [
    "可以看到，`Point`类的`__dict__`属性包括了：\n",
    "- 类的文档`__doc__`\n",
    "- 类中定义变量，比如这里的`my_name`\n",
    "- 类的方法\n",
    "- 其他一些不知道什么的东西😓"
   ]
  },
  {
   "cell_type": "markdown",
   "id": "139a3ef1",
   "metadata": {},
   "source": [
    "## 类的`__repr__`和`__str__`方法"
   ]
  },
  {
   "cell_type": "markdown",
   "id": "b6ba4067",
   "metadata": {},
   "source": [
    "### `__repr__`方法"
   ]
  },
  {
   "cell_type": "markdown",
   "id": "47820e57",
   "metadata": {},
   "source": [
    "直接输出`p`时，会显示一堆没用的东西"
   ]
  },
  {
   "cell_type": "code",
   "execution_count": null,
   "id": "fa5b64a5",
   "metadata": {},
   "outputs": [
    {
     "data": {
      "text/plain": [
       "<__main__.Point>"
      ]
     },
     "execution_count": null,
     "metadata": {},
     "output_type": "execute_result"
    }
   ],
   "source": [
    "p"
   ]
  },
  {
   "cell_type": "markdown",
   "id": "c32ea753",
   "metadata": {},
   "source": [
    "我们想显示关于`Point`的有用信息，这时`__repr__`方法就派上用场了"
   ]
  },
  {
   "cell_type": "code",
   "execution_count": null,
   "id": "ca488014",
   "metadata": {},
   "outputs": [],
   "source": [
    "class Point():\n",
    "    def __init__(self, x, y):\n",
    "        self.x = x\n",
    "        self.y = y\n",
    "    \n",
    "    def __repr__(self):\n",
    "        return \"Point(x=%r, y=%r)\" % (self.x, self.y)"
   ]
  },
  {
   "cell_type": "code",
   "execution_count": null,
   "id": "e9c21518",
   "metadata": {},
   "outputs": [
    {
     "data": {
      "text/plain": [
       "Point(x=3, y=4)"
      ]
     },
     "execution_count": null,
     "metadata": {},
     "output_type": "execute_result"
    }
   ],
   "source": [
    "p = Point(3, 4)\n",
    "p"
   ]
  },
  {
   "cell_type": "code",
   "execution_count": null,
   "id": "b565465b",
   "metadata": {},
   "outputs": [],
   "source": [
    "class Point():\n",
    "    def __init__(self, x, y):\n",
    "        self.x = x\n",
    "        self.y = y\n",
    "    \n",
    "    def __setattr__(self, name, value):\n",
    "        print(f'set attr {name} to float({value})')\n",
    "        self.__dict__[name] = float(value)\n",
    "    \n",
    "    def __repr__(self):\n",
    "        return \"Point(x=%r, y=%r)\" % (self.x, self.y)"
   ]
  },
  {
   "cell_type": "markdown",
   "id": "01033c25",
   "metadata": {},
   "source": [
    "### `__str__`方法"
   ]
  },
  {
   "cell_type": "markdown",
   "id": "7c56dd90",
   "metadata": {},
   "source": [
    "`__str__`方法和`__repr__`方法好像都是用字符表示对象的，有什么区别呢？"
   ]
  },
  {
   "cell_type": "markdown",
   "id": "8990d8cb",
   "metadata": {},
   "source": [
    "[stackoverflow](https://stackoverflow.com/questions/1436703/what-is-the-difference-between-str-and-repr)有一个回答说：\n",
    "- `__repr__`显示的信息需要避免歧义\n",
    "- `__str__`显示的信息注重可读性，方便理解\n",
    "- `__str__`使用了`__repr`"
   ]
  },
  {
   "cell_type": "code",
   "execution_count": null,
   "id": "960b741d",
   "metadata": {},
   "outputs": [
    {
     "data": {
      "text/plain": [
       "'Point(x=3, y=4)'"
      ]
     },
     "execution_count": null,
     "metadata": {},
     "output_type": "execute_result"
    }
   ],
   "source": [
    "str(p)"
   ]
  },
  {
   "cell_type": "markdown",
   "id": "604eb546",
   "metadata": {},
   "source": [
    "在`Point`中如果没有重写`__str__`方法，会调用`__repr__`输出的结果"
   ]
  },
  {
   "cell_type": "markdown",
   "id": "ce6b4e4d",
   "metadata": {},
   "source": [
    "如果在`Point`中重写了`__str__`方法，就会输出`__str__`调用的结果。"
   ]
  },
  {
   "cell_type": "code",
   "execution_count": null,
   "id": "7a6c03d4",
   "metadata": {},
   "outputs": [],
   "source": [
    "class Point():\n",
    "    def __init__(self, x, y):\n",
    "        self.x = x\n",
    "        self.y = y\n",
    "    \n",
    "    def __repr__(self):\n",
    "        return \"Point(x=%r, y=%r)\" % (self.x, self.y)\n",
    "    \n",
    "    def __str__(self):\n",
    "        return f'Just a normal 2d point({self.x}, {self.y})'"
   ]
  },
  {
   "cell_type": "code",
   "execution_count": null,
   "id": "19f09a84",
   "metadata": {},
   "outputs": [],
   "source": [
    "p = Point(3, 4)"
   ]
  },
  {
   "cell_type": "code",
   "execution_count": null,
   "id": "67f8db9a",
   "metadata": {},
   "outputs": [
    {
     "data": {
      "text/plain": [
       "Point(x=3, y=4)"
      ]
     },
     "execution_count": null,
     "metadata": {},
     "output_type": "execute_result"
    }
   ],
   "source": [
    "p"
   ]
  },
  {
   "cell_type": "code",
   "execution_count": null,
   "id": "603281bc",
   "metadata": {},
   "outputs": [
    {
     "data": {
      "text/plain": [
       "'Point(x=3, y=4)'"
      ]
     },
     "execution_count": null,
     "metadata": {},
     "output_type": "execute_result"
    }
   ],
   "source": [
    "repr(p)"
   ]
  },
  {
   "cell_type": "code",
   "execution_count": null,
   "id": "b8663d7d",
   "metadata": {},
   "outputs": [
    {
     "name": "stdout",
     "output_type": "stream",
     "text": [
      "Just a normal 2d point(3, 4)\n"
     ]
    }
   ],
   "source": [
    "print(p)"
   ]
  },
  {
   "cell_type": "code",
   "execution_count": null,
   "id": "5281f553",
   "metadata": {},
   "outputs": [
    {
     "data": {
      "text/plain": [
       "'Just a normal 2d point(3, 4)'"
      ]
     },
     "execution_count": null,
     "metadata": {},
     "output_type": "execute_result"
    }
   ],
   "source": [
    "str(p)"
   ]
  },
  {
   "cell_type": "markdown",
   "id": "65275043",
   "metadata": {},
   "source": [
    "## 类的`__setattr__`方法"
   ]
  },
  {
   "cell_type": "code",
   "execution_count": null,
   "id": "115ad04f",
   "metadata": {},
   "outputs": [
    {
     "data": {
      "text/plain": [
       "Point(x='3', y='4')"
      ]
     },
     "execution_count": null,
     "metadata": {},
     "output_type": "execute_result"
    }
   ],
   "source": [
    "p = Point('3', '4')\n",
    "p"
   ]
  },
  {
   "cell_type": "markdown",
   "id": "2cf05065",
   "metadata": {},
   "source": [
    "想在初始化Point的时候，把x，y属性转变成float类型，`__setattr__`方法就能用上了"
   ]
  },
  {
   "cell_type": "code",
   "execution_count": null,
   "id": "8b804ada",
   "metadata": {},
   "outputs": [],
   "source": [
    "class Point():\n",
    "    def __init__(self, x, y):\n",
    "        self.x = x\n",
    "        self.y = y\n",
    "    \n",
    "    def __setattr__(self, name, value):\n",
    "        self.__dict__[name] = float(value)\n",
    "    \n",
    "    def __repr__(self):\n",
    "        return \"Point(x=%r, y=%r)\" % (self.x, self.y)"
   ]
  },
  {
   "cell_type": "code",
   "execution_count": null,
   "id": "8358211f",
   "metadata": {},
   "outputs": [
    {
     "data": {
      "text/plain": [
       "Point(x=3.0, y=4.0)"
      ]
     },
     "execution_count": null,
     "metadata": {},
     "output_type": "execute_result"
    }
   ],
   "source": [
    "p = Point('3', '4')\n",
    "p"
   ]
  },
  {
   "cell_type": "code",
   "execution_count": null,
   "id": "17d5e6e3",
   "metadata": {},
   "outputs": [
    {
     "data": {
      "text/plain": [
       "{'x': 3.0, 'y': 4.0}"
      ]
     },
     "execution_count": null,
     "metadata": {},
     "output_type": "execute_result"
    }
   ],
   "source": [
    "p.__dict__"
   ]
  },
  {
   "cell_type": "markdown",
   "id": "fa76c78f",
   "metadata": {},
   "source": [
    "p的x和y属性都已经是float类型了，这是怎么做到的呢？\n",
    "\n",
    "在类的`__init__`函数中，`self.x = `x这一句，`self.x`的值设为`x`，\n",
    "\n",
    "当遇到这种`对象.属性 = 值`的时候，如果重写了`__setattr__`方法，就会调用`__setattr__`方法，\n",
    "\n",
    "也就是说当遇到`对象.属性 = 值`，相当于调用了`__setattr__(对象, 属性, 值)`\n",
    "\n",
    "在这里相当于`__setattr__(self, 'x', x)`，在`__setattr__`函数里修改了`self.__dict__['x'] = float(value)`"
   ]
  },
  {
   "cell_type": "markdown",
   "id": "889922bc",
   "metadata": {},
   "source": [
    "`__setattr__`函数里面可以做你想做的任何事情，不仅仅是改变默认的属性赋值操作"
   ]
  },
  {
   "cell_type": "code",
   "execution_count": null,
   "id": "8a31abac",
   "metadata": {},
   "outputs": [],
   "source": [
    "class Point():\n",
    "    def __init__(self, x, y):\n",
    "        self._modules = {}\n",
    "        self.x = x\n",
    "        self.y = y\n",
    "    \n",
    "    def __setattr__(self, name, value):\n",
    "        if not name.startswith('_'):\n",
    "            self._modules[name] = value\n",
    "            print(f'add {name}:{value} to _module')\n",
    "        print(f'set {name} to {value}')\n",
    "        super().__setattr__(name, value)\n",
    "        \n",
    "    def __repr__(self):\n",
    "        return \"Point(x=%r, y=%r)\" % (self.x, self.y)"
   ]
  },
  {
   "cell_type": "code",
   "execution_count": null,
   "id": "7581e9f3",
   "metadata": {},
   "outputs": [
    {
     "name": "stdout",
     "output_type": "stream",
     "text": [
      "set _modules to {}\n",
      "add x:3 to _module\n",
      "set x to 3\n",
      "add y:4 to _module\n",
      "set y to 4\n"
     ]
    }
   ],
   "source": [
    "p = Point(3, 4)"
   ]
  },
  {
   "cell_type": "code",
   "execution_count": null,
   "id": "e2286344",
   "metadata": {},
   "outputs": [
    {
     "data": {
      "text/plain": [
       "{'x': 3, 'y': 4}"
      ]
     },
     "execution_count": null,
     "metadata": {},
     "output_type": "execute_result"
    }
   ],
   "source": [
    "p._modules"
   ]
  }
 ],
 "metadata": {
  "jekyll": {
   "author": "metseq",
   "categories": "Python",
   "layout": "post",
   "tags": "Python",
   "title": "Python中的几个魔法方法"
  },
  "kernelspec": {
   "display_name": "Python 3 (ipykernel)",
   "language": "python",
   "name": "python3"
  }
 },
 "nbformat": 4,
 "nbformat_minor": 5
}
